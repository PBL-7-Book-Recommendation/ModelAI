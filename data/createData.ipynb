{
 "cells": [
  {
   "cell_type": "code",
   "execution_count": 1,
   "metadata": {},
   "outputs": [],
   "source": [
    "import pandas as pd\n",
    "import numpy as np\n",
    "# from sklearn.datasets import make_multilabel_classification\n",
    "\n"
   ]
  },
  {
   "cell_type": "code",
   "execution_count": 2,
   "metadata": {},
   "outputs": [],
   "source": [
    "df = pd.read_csv('datathriftle-book.csv')\n"
   ]
  },
  {
   "cell_type": "code",
   "execution_count": 3,
   "metadata": {},
   "outputs": [],
   "source": [
    "# col_index = 11\n",
    "# sum_col6 = df.iloc[:, col_index].sum()\n",
    "\n",
    "# print(\"Tổng của cột thứ 6:\", sum_col6)"
   ]
  },
  {
   "cell_type": "code",
   "execution_count": 4,
   "metadata": {},
   "outputs": [
    {
     "data": {
      "text/plain": [
       "array([246270, 'The Alchemist',\n",
       "       \"An international bestseller Over 80 million copies sold worldwide A PBS Great American Read Top 100 pick A special 25th anniversary edition of the extraordinary international bestseller, including a new Foreword by Paulo Coelho. Combining magic, mysticism, wisdom and wonder into an inspiring tale of self-discovery, The Alchemist has become a modern classic, selling millions of copies around the world and transforming the lives of countless readers across generations. Paulo Coelho's masterpiece tells the mystical story of Santiago, an Andalusian shepherd boy who yearns to travel in search of a worldly treasure. His quest will lead him to riches far different--and far more satisfying--than he ever imagined. Santiago's journey teaches us about the essential wisdom of listening to our hearts, of recognizing opportunity and learning to read the omens strewn along life's path, and, most importantly, to follow our dreams.\",\n",
       "       'Paperback',\n",
       "       'https://i.thriftbooks.com/api/imagehandler/m/1451AFE794E9729435C60DF064007555F2837E10.jpeg',\n",
       "       '1993-04-25T00:00:00', 'HarperOne', 197, 5.49, 'Paulo Coelho',\n",
       "       4.00294985250738, 339, 27], dtype=object)"
      ]
     },
     "execution_count": 4,
     "metadata": {},
     "output_type": "execute_result"
    }
   ],
   "source": [
    "data = df.to_numpy()\n",
    "data[3]"
   ]
  },
  {
   "cell_type": "code",
   "execution_count": 5,
   "metadata": {},
   "outputs": [],
   "source": [
    "# # Generate sample data\n",
    "# # num_users = 5000\n",
    "# num_books = 10000\n",
    "# num_ratings = 100000\n",
    "\n",
    "# # user_ids = np.random.randint(num_users, size=num_ratings)\n",
    "# # book_ids = np.random.randint(num_books, size=num_ratings)\n",
    "# # ratings = np.random.randint(1, 6, size=num_ratings)"
   ]
  },
  {
   "cell_type": "code",
   "execution_count": 21,
   "metadata": {},
   "outputs": [],
   "source": [
    "data_rating = []\n",
    "for i in range(len(data)):\n",
    "    book = data[i]\n",
    "    num_rating = book[11]\n",
    "    num_users = np.random.randint(1, 5000, size=1)\n",
    "    target_avg_rating = book[12]\n",
    "    ratings = np.random.normal(loc=target_avg_rating, scale=1.0, size=num_rating)\n",
    "    ratings = np.clip(ratings, 1, 5)  # Ensure ratings are within 1-5 range\n",
    "    ratings = ratings.astype(int)\n",
    "    # ratings = np.random.randint(1, 6, size=num_rating)\n",
    "    user_ids = np.random.randint(num_users, size=num_rating)\n",
    "    book_id = book[0]\n",
    "    for j in range(num_rating):\n",
    "        data_rating.append({'book_id': book[0], 'user_id': user_ids[j], 'rating': ratings[j]}) \n",
    "    \n",
    "    \n"
   ]
  },
  {
   "cell_type": "code",
   "execution_count": 8,
   "metadata": {},
   "outputs": [
    {
     "data": {
      "text/plain": [
       "200122"
      ]
     },
     "execution_count": 8,
     "metadata": {},
     "output_type": "execute_result"
    }
   ],
   "source": [
    "len(data_rating)"
   ]
  },
  {
   "cell_type": "code",
   "execution_count": 22,
   "metadata": {},
   "outputs": [],
   "source": [
    "data_user_rating = pd.DataFrame(data_rating)\n",
    "# data_user_rating.to_csv('book_user_ratings.csv', index=True)"
   ]
  },
  {
   "cell_type": "code",
   "execution_count": 23,
   "metadata": {},
   "outputs": [
    {
     "data": {
      "text/plain": [
       "5    111635\n",
       "1     34656\n",
       "4     23424\n",
       "3     17179\n",
       "2     13228\n",
       "Name: rating, dtype: int64"
      ]
     },
     "execution_count": 23,
     "metadata": {},
     "output_type": "execute_result"
    }
   ],
   "source": [
    "data_user_rating['rating'].value_counts()"
   ]
  }
 ],
 "metadata": {
  "kernelspec": {
   "display_name": "Python 3",
   "language": "python",
   "name": "python3"
  },
  "language_info": {
   "codemirror_mode": {
    "name": "ipython",
    "version": 3
   },
   "file_extension": ".py",
   "mimetype": "text/x-python",
   "name": "python",
   "nbconvert_exporter": "python",
   "pygments_lexer": "ipython3",
   "version": "3.9.13"
  }
 },
 "nbformat": 4,
 "nbformat_minor": 2
}
