{
 "cells": [
  {
   "cell_type": "code",
   "execution_count": 1,
   "metadata": {},
   "outputs": [],
   "source": [
    "import pandas as pd\n",
    "import numpy as np\n",
    "# from sklearn.datasets import make_multilabel_classification\n",
    "\n"
   ]
  },
  {
   "cell_type": "code",
   "execution_count": 6,
   "metadata": {},
   "outputs": [],
   "source": [
    "df = pd.read_csv('datathriftle-book.csv')\n"
   ]
  },
  {
   "cell_type": "code",
   "execution_count": 13,
   "metadata": {},
   "outputs": [
    {
     "data": {
      "text/plain": [
       "array([246270, 'The Alchemist',\n",
       "       \"An international bestseller Over 80 million copies sold worldwide A PBS Great American Read Top 100 pick A special 25th anniversary edition of the extraordinary international bestseller, including a new Foreword by Paulo Coelho. Combining magic, mysticism, wisdom and wonder into an inspiring tale of self-discovery, The Alchemist has become a modern classic, selling millions of copies around the world and transforming the lives of countless readers across generations. Paulo Coelho's masterpiece tells the mystical story of Santiago, an Andalusian shepherd boy who yearns to travel in search of a worldly treasure. His quest will lead him to riches far different--and far more satisfying--than he ever imagined. Santiago's journey teaches us about the essential wisdom of listening to our hearts, of recognizing opportunity and learning to read the omens strewn along life's path, and, most importantly, to follow our dreams.\",\n",
       "       'Paperback',\n",
       "       'https://i.thriftbooks.com/api/imagehandler/m/1451AFE794E9729435C60DF064007555F2837E10.jpeg',\n",
       "       '1993-04-25T00:00:00', 'HarperOne', 197, 5.49, 'Paulo Coelho',\n",
       "       4.00294985250738, 339, 27], dtype=object)"
      ]
     },
     "execution_count": 13,
     "metadata": {},
     "output_type": "execute_result"
    }
   ],
   "source": [
    "data = df.to_numpy()\n",
    "data[3]"
   ]
  },
  {
   "cell_type": "code",
   "execution_count": 12,
   "metadata": {},
   "outputs": [],
   "source": [
    "# Generate sample data\n",
    "# num_users = 5000\n",
    "num_books = 10000\n",
    "num_ratings = 100000\n",
    "\n",
    "# user_ids = np.random.randint(num_users, size=num_ratings)\n",
    "book_ids = np.random.randint(num_books, size=num_ratings)\n",
    "# ratings = np.random.randint(1, 6, size=num_ratings)"
   ]
  },
  {
   "cell_type": "code",
   "execution_count": null,
   "metadata": {},
   "outputs": [],
   "source": [
    "data = []\n",
    "for i in range(len(data)):\n",
    "    book = data[i]\n",
    "    num_users = np.random.randint(1, 100, size=1)\n",
    "    ratings = np.random.randint(1, 6, size=num_ratings)\n",
    "    user_ids = np.random.randint(num_users, size=num_ratings)\n",
    "    book_id = book[0]\n",
    "    data.append({'rating_id':i, 'user_id': user_ids, 'book_id': book_ids, 'rating': ratings}) \n",
    "    \n",
    "    \n"
   ]
  },
  {
   "cell_type": "code",
   "execution_count": null,
   "metadata": {},
   "outputs": [],
   "source": [
    "\n",
    "\n",
    "# Create the DataFrame\n",
    "data = {'user_id': user_ids, 'book_id': book_ids, 'rating': ratings}\n",
    "df = pd.DataFrame(data)\n",
    "\n",
    "# Save the dataset to a CSV file\n",
    "df.to_csv('book_ratings.csv', index=False)"
   ]
  },
  {
   "cell_type": "code",
   "execution_count": 16,
   "metadata": {},
   "outputs": [
    {
     "name": "stdout",
     "output_type": "stream",
     "text": [
      "{'existing_key1': [1, 2, 3], 'existing_key2': ['a', 'b', 'c'], '1': {'user_id': [4, 5, 6], 'book_id': [104, 105, 106], 'rating': [4, 3, 5]}}\n"
     ]
    }
   ],
   "source": [
    "# Assuming you have an existing dictionary called 'data'\n",
    "data = {\n",
    "    'existing_key1': [1, 2, 3],\n",
    "    'existing_key2': ['a', 'b', 'c']\n",
    "}\n",
    "\n",
    "# Assuming user_ids, book_ids, and ratings are lists\n",
    "user_ids = [4, 5, 6]\n",
    "book_ids = [104, 105, 106]\n",
    "ratings = [4, 3, 5]\n",
    "\n",
    "# Create a dictionary with the new data\n",
    "new_data = {'user_id': user_ids, 'book_id': book_ids, 'rating': ratings}\n",
    "data['1'] = new_data\n",
    "# Update the 'data' dictionary with the new data\n",
    "\n",
    "\n",
    "# Display the updated 'data' dictionary\n",
    "print(data)\n"
   ]
  }
 ],
 "metadata": {
  "kernelspec": {
   "display_name": "Python 3",
   "language": "python",
   "name": "python3"
  },
  "language_info": {
   "codemirror_mode": {
    "name": "ipython",
    "version": 3
   },
   "file_extension": ".py",
   "mimetype": "text/x-python",
   "name": "python",
   "nbconvert_exporter": "python",
   "pygments_lexer": "ipython3",
   "version": "3.9.13"
  }
 },
 "nbformat": 4,
 "nbformat_minor": 2
}
