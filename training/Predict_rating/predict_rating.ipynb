{
 "cells": [
  {
   "cell_type": "code",
   "execution_count": 1,
   "metadata": {},
   "outputs": [
    {
     "name": "stderr",
     "output_type": "stream",
     "text": [
      "C:\\Users\\Admin\\AppData\\Local\\Packages\\PythonSoftwareFoundation.Python.3.9_qbz5n2kfra8p0\\LocalCache\\local-packages\\Python39\\site-packages\\scipy\\__init__.py:146: UserWarning: A NumPy version >=1.16.5 and <1.23.0 is required for this version of SciPy (detected version 1.26.4\n",
      "  warnings.warn(f\"A NumPy version >={np_minversion} and <{np_maxversion}\"\n"
     ]
    }
   ],
   "source": [
    "import pandas as pd\n",
    "import numpy as np\n",
    "import seaborn as sns\n",
    "import matplotlib.pyplot as plt\n",
    "from sklearn.model_selection import train_test_split\n",
    "from sklearn.metrics import accuracy_score, classification_report\n",
    "import re\n",
    "import string\n"
   ]
  },
  {
   "cell_type": "code",
   "execution_count": 14,
   "metadata": {},
   "outputs": [
    {
     "data": {
      "text/html": [
       "<div>\n",
       "<style scoped>\n",
       "    .dataframe tbody tr th:only-of-type {\n",
       "        vertical-align: middle;\n",
       "    }\n",
       "\n",
       "    .dataframe tbody tr th {\n",
       "        vertical-align: top;\n",
       "    }\n",
       "\n",
       "    .dataframe thead th {\n",
       "        text-align: right;\n",
       "    }\n",
       "</style>\n",
       "<table border=\"1\" class=\"dataframe\">\n",
       "  <thead>\n",
       "    <tr style=\"text-align: right;\">\n",
       "      <th></th>\n",
       "      <th>rating_id</th>\n",
       "      <th>book_id</th>\n",
       "      <th>user_id</th>\n",
       "      <th>rating</th>\n",
       "      <th>age</th>\n",
       "      <th>gender</th>\n",
       "      <th>area</th>\n",
       "    </tr>\n",
       "  </thead>\n",
       "  <tbody>\n",
       "    <tr>\n",
       "      <th>0</th>\n",
       "      <td>0</td>\n",
       "      <td>248957</td>\n",
       "      <td>10527</td>\n",
       "      <td>5</td>\n",
       "      <td>39</td>\n",
       "      <td>Male</td>\n",
       "      <td>european</td>\n",
       "    </tr>\n",
       "    <tr>\n",
       "      <th>1</th>\n",
       "      <td>1</td>\n",
       "      <td>248957</td>\n",
       "      <td>6843</td>\n",
       "      <td>5</td>\n",
       "      <td>35</td>\n",
       "      <td>Male</td>\n",
       "      <td>south_asian</td>\n",
       "    </tr>\n",
       "    <tr>\n",
       "      <th>2</th>\n",
       "      <td>2</td>\n",
       "      <td>248957</td>\n",
       "      <td>3650</td>\n",
       "      <td>5</td>\n",
       "      <td>58</td>\n",
       "      <td>Male</td>\n",
       "      <td>celtic_english</td>\n",
       "    </tr>\n",
       "    <tr>\n",
       "      <th>3</th>\n",
       "      <td>3</td>\n",
       "      <td>248957</td>\n",
       "      <td>11592</td>\n",
       "      <td>5</td>\n",
       "      <td>51</td>\n",
       "      <td>Male</td>\n",
       "      <td>celtic_english</td>\n",
       "    </tr>\n",
       "    <tr>\n",
       "      <th>4</th>\n",
       "      <td>4</td>\n",
       "      <td>248957</td>\n",
       "      <td>1205</td>\n",
       "      <td>5</td>\n",
       "      <td>60</td>\n",
       "      <td>Female</td>\n",
       "      <td>celtic_english</td>\n",
       "    </tr>\n",
       "    <tr>\n",
       "      <th>...</th>\n",
       "      <td>...</td>\n",
       "      <td>...</td>\n",
       "      <td>...</td>\n",
       "      <td>...</td>\n",
       "      <td>...</td>\n",
       "      <td>...</td>\n",
       "      <td>...</td>\n",
       "    </tr>\n",
       "    <tr>\n",
       "      <th>200117</th>\n",
       "      <td>200117</td>\n",
       "      <td>250730</td>\n",
       "      <td>8627</td>\n",
       "      <td>5</td>\n",
       "      <td>39</td>\n",
       "      <td>Female</td>\n",
       "      <td>east_asian</td>\n",
       "    </tr>\n",
       "    <tr>\n",
       "      <th>200118</th>\n",
       "      <td>200118</td>\n",
       "      <td>250730</td>\n",
       "      <td>44</td>\n",
       "      <td>5</td>\n",
       "      <td>33</td>\n",
       "      <td>Male</td>\n",
       "      <td>east_asian</td>\n",
       "    </tr>\n",
       "    <tr>\n",
       "      <th>200119</th>\n",
       "      <td>200119</td>\n",
       "      <td>250730</td>\n",
       "      <td>9117</td>\n",
       "      <td>5</td>\n",
       "      <td>19</td>\n",
       "      <td>Female</td>\n",
       "      <td>east_asian</td>\n",
       "    </tr>\n",
       "    <tr>\n",
       "      <th>200120</th>\n",
       "      <td>200120</td>\n",
       "      <td>250730</td>\n",
       "      <td>10149</td>\n",
       "      <td>5</td>\n",
       "      <td>53</td>\n",
       "      <td>Female</td>\n",
       "      <td>celtic_english</td>\n",
       "    </tr>\n",
       "    <tr>\n",
       "      <th>200121</th>\n",
       "      <td>200121</td>\n",
       "      <td>250730</td>\n",
       "      <td>5601</td>\n",
       "      <td>5</td>\n",
       "      <td>31</td>\n",
       "      <td>Male</td>\n",
       "      <td>south_asian</td>\n",
       "    </tr>\n",
       "  </tbody>\n",
       "</table>\n",
       "<p>200122 rows × 7 columns</p>\n",
       "</div>"
      ],
      "text/plain": [
       "        rating_id  book_id  user_id  rating  age  gender            area\n",
       "0               0   248957    10527       5   39    Male        european\n",
       "1               1   248957     6843       5   35    Male     south_asian\n",
       "2               2   248957     3650       5   58    Male  celtic_english\n",
       "3               3   248957    11592       5   51    Male  celtic_english\n",
       "4               4   248957     1205       5   60  Female  celtic_english\n",
       "...           ...      ...      ...     ...  ...     ...             ...\n",
       "200117     200117   250730     8627       5   39  Female      east_asian\n",
       "200118     200118   250730       44       5   33    Male      east_asian\n",
       "200119     200119   250730     9117       5   19  Female      east_asian\n",
       "200120     200120   250730    10149       5   53  Female  celtic_english\n",
       "200121     200121   250730     5601       5   31    Male     south_asian\n",
       "\n",
       "[200122 rows x 7 columns]"
      ]
     },
     "execution_count": 14,
     "metadata": {},
     "output_type": "execute_result"
    }
   ],
   "source": [
    "df = pd.read_csv('E:/Tài liệu môn học/Đồ án/pbl7/modelAI/ModelAI/data/book_user_ratings_include_user_data.csv')\n",
    "df"
   ]
  },
  {
   "cell_type": "code",
   "execution_count": null,
   "metadata": {},
   "outputs": [],
   "source": []
  },
  {
   "cell_type": "code",
   "execution_count": 15,
   "metadata": {},
   "outputs": [],
   "source": [
    "# Sử dụng LabelEncoder từ thư viện scikit-learn\n",
    "from sklearn.preprocessing import LabelEncoder\n",
    "\n",
    "# Khởi tạo LabelEncoder\n",
    "label_encoder = LabelEncoder()\n",
    "\n",
    "# Mã hóa cột 'area' thành dạng số\n",
    "df['gender_encoded'] = label_encoder.fit_transform(df['gender'])\n",
    "df['area_encoded'] = label_encoder.fit_transform(df['area'])\n"
   ]
  },
  {
   "cell_type": "code",
   "execution_count": 16,
   "metadata": {},
   "outputs": [
    {
     "data": {
      "text/html": [
       "<div>\n",
       "<style scoped>\n",
       "    .dataframe tbody tr th:only-of-type {\n",
       "        vertical-align: middle;\n",
       "    }\n",
       "\n",
       "    .dataframe tbody tr th {\n",
       "        vertical-align: top;\n",
       "    }\n",
       "\n",
       "    .dataframe thead th {\n",
       "        text-align: right;\n",
       "    }\n",
       "</style>\n",
       "<table border=\"1\" class=\"dataframe\">\n",
       "  <thead>\n",
       "    <tr style=\"text-align: right;\">\n",
       "      <th></th>\n",
       "      <th>rating_id</th>\n",
       "      <th>book_id</th>\n",
       "      <th>user_id</th>\n",
       "      <th>rating</th>\n",
       "      <th>age</th>\n",
       "      <th>gender</th>\n",
       "      <th>area</th>\n",
       "      <th>gender_encoded</th>\n",
       "      <th>area_encoded</th>\n",
       "    </tr>\n",
       "  </thead>\n",
       "  <tbody>\n",
       "    <tr>\n",
       "      <th>0</th>\n",
       "      <td>0</td>\n",
       "      <td>248957</td>\n",
       "      <td>10527</td>\n",
       "      <td>5</td>\n",
       "      <td>39</td>\n",
       "      <td>Male</td>\n",
       "      <td>european</td>\n",
       "      <td>1</td>\n",
       "      <td>3</td>\n",
       "    </tr>\n",
       "    <tr>\n",
       "      <th>1</th>\n",
       "      <td>1</td>\n",
       "      <td>248957</td>\n",
       "      <td>6843</td>\n",
       "      <td>5</td>\n",
       "      <td>35</td>\n",
       "      <td>Male</td>\n",
       "      <td>south_asian</td>\n",
       "      <td>1</td>\n",
       "      <td>9</td>\n",
       "    </tr>\n",
       "    <tr>\n",
       "      <th>2</th>\n",
       "      <td>2</td>\n",
       "      <td>248957</td>\n",
       "      <td>3650</td>\n",
       "      <td>5</td>\n",
       "      <td>58</td>\n",
       "      <td>Male</td>\n",
       "      <td>celtic_english</td>\n",
       "      <td>1</td>\n",
       "      <td>1</td>\n",
       "    </tr>\n",
       "    <tr>\n",
       "      <th>3</th>\n",
       "      <td>3</td>\n",
       "      <td>248957</td>\n",
       "      <td>11592</td>\n",
       "      <td>5</td>\n",
       "      <td>51</td>\n",
       "      <td>Male</td>\n",
       "      <td>celtic_english</td>\n",
       "      <td>1</td>\n",
       "      <td>1</td>\n",
       "    </tr>\n",
       "    <tr>\n",
       "      <th>4</th>\n",
       "      <td>4</td>\n",
       "      <td>248957</td>\n",
       "      <td>1205</td>\n",
       "      <td>5</td>\n",
       "      <td>60</td>\n",
       "      <td>Female</td>\n",
       "      <td>celtic_english</td>\n",
       "      <td>0</td>\n",
       "      <td>1</td>\n",
       "    </tr>\n",
       "    <tr>\n",
       "      <th>...</th>\n",
       "      <td>...</td>\n",
       "      <td>...</td>\n",
       "      <td>...</td>\n",
       "      <td>...</td>\n",
       "      <td>...</td>\n",
       "      <td>...</td>\n",
       "      <td>...</td>\n",
       "      <td>...</td>\n",
       "      <td>...</td>\n",
       "    </tr>\n",
       "    <tr>\n",
       "      <th>200117</th>\n",
       "      <td>200117</td>\n",
       "      <td>250730</td>\n",
       "      <td>8627</td>\n",
       "      <td>5</td>\n",
       "      <td>39</td>\n",
       "      <td>Female</td>\n",
       "      <td>east_asian</td>\n",
       "      <td>0</td>\n",
       "      <td>2</td>\n",
       "    </tr>\n",
       "    <tr>\n",
       "      <th>200118</th>\n",
       "      <td>200118</td>\n",
       "      <td>250730</td>\n",
       "      <td>44</td>\n",
       "      <td>5</td>\n",
       "      <td>33</td>\n",
       "      <td>Male</td>\n",
       "      <td>east_asian</td>\n",
       "      <td>1</td>\n",
       "      <td>2</td>\n",
       "    </tr>\n",
       "    <tr>\n",
       "      <th>200119</th>\n",
       "      <td>200119</td>\n",
       "      <td>250730</td>\n",
       "      <td>9117</td>\n",
       "      <td>5</td>\n",
       "      <td>19</td>\n",
       "      <td>Female</td>\n",
       "      <td>east_asian</td>\n",
       "      <td>0</td>\n",
       "      <td>2</td>\n",
       "    </tr>\n",
       "    <tr>\n",
       "      <th>200120</th>\n",
       "      <td>200120</td>\n",
       "      <td>250730</td>\n",
       "      <td>10149</td>\n",
       "      <td>5</td>\n",
       "      <td>53</td>\n",
       "      <td>Female</td>\n",
       "      <td>celtic_english</td>\n",
       "      <td>0</td>\n",
       "      <td>1</td>\n",
       "    </tr>\n",
       "    <tr>\n",
       "      <th>200121</th>\n",
       "      <td>200121</td>\n",
       "      <td>250730</td>\n",
       "      <td>5601</td>\n",
       "      <td>5</td>\n",
       "      <td>31</td>\n",
       "      <td>Male</td>\n",
       "      <td>south_asian</td>\n",
       "      <td>1</td>\n",
       "      <td>9</td>\n",
       "    </tr>\n",
       "  </tbody>\n",
       "</table>\n",
       "<p>200122 rows × 9 columns</p>\n",
       "</div>"
      ],
      "text/plain": [
       "        rating_id  book_id  user_id  rating  age  gender            area  \\\n",
       "0               0   248957    10527       5   39    Male        european   \n",
       "1               1   248957     6843       5   35    Male     south_asian   \n",
       "2               2   248957     3650       5   58    Male  celtic_english   \n",
       "3               3   248957    11592       5   51    Male  celtic_english   \n",
       "4               4   248957     1205       5   60  Female  celtic_english   \n",
       "...           ...      ...      ...     ...  ...     ...             ...   \n",
       "200117     200117   250730     8627       5   39  Female      east_asian   \n",
       "200118     200118   250730       44       5   33    Male      east_asian   \n",
       "200119     200119   250730     9117       5   19  Female      east_asian   \n",
       "200120     200120   250730    10149       5   53  Female  celtic_english   \n",
       "200121     200121   250730     5601       5   31    Male     south_asian   \n",
       "\n",
       "        gender_encoded  area_encoded  \n",
       "0                    1             3  \n",
       "1                    1             9  \n",
       "2                    1             1  \n",
       "3                    1             1  \n",
       "4                    0             1  \n",
       "...                ...           ...  \n",
       "200117               0             2  \n",
       "200118               1             2  \n",
       "200119               0             2  \n",
       "200120               0             1  \n",
       "200121               1             9  \n",
       "\n",
       "[200122 rows x 9 columns]"
      ]
     },
     "execution_count": 16,
     "metadata": {},
     "output_type": "execute_result"
    }
   ],
   "source": [
    "df"
   ]
  },
  {
   "cell_type": "code",
   "execution_count": 17,
   "metadata": {},
   "outputs": [],
   "source": [
    "X = df[['book_id',\t'user_id',\t'age',\t'gender_encoded',\t'area_encoded']]  # features\n",
    "y = df['rating']"
   ]
  },
  {
   "cell_type": "code",
   "execution_count": 18,
   "metadata": {},
   "outputs": [],
   "source": [
    "X_train, X_test, y_train, y_test = train_test_split(X, y, test_size=0.2, random_state=42)\n"
   ]
  },
  {
   "cell_type": "code",
   "execution_count": 19,
   "metadata": {},
   "outputs": [],
   "source": [
    "from sklearn.linear_model import LinearRegression\n",
    "model = LinearRegression()\n",
    "\n",
    "model.fit(X_train, y_train)\n",
    "y_pred = model.predict(X_test)\n",
    "\n"
   ]
  },
  {
   "cell_type": "code",
   "execution_count": 21,
   "metadata": {},
   "outputs": [
    {
     "name": "stdout",
     "output_type": "stream",
     "text": [
      "Mean Squared Error: 2.401647429056864\n"
     ]
    }
   ],
   "source": [
    "from sklearn.metrics import mean_squared_error\n",
    "\n",
    "# Đánh giá mô hình bằng Mean Squared Error (MSE)\n",
    "mse = mean_squared_error(y_test, y_pred)\n",
    "print(\"Mean Squared Error:\", mse)"
   ]
  },
  {
   "cell_type": "code",
   "execution_count": 23,
   "metadata": {},
   "outputs": [
    {
     "name": "stdout",
     "output_type": "stream",
     "text": [
      "Root Mean Squared Error (RMSE): 1.5497249527115655\n"
     ]
    }
   ],
   "source": [
    "errors = y_test - y_pred\n",
    "\n",
    "# Tính toán RMSE\n",
    "rmse = np.sqrt(np.mean(errors**2))\n",
    "print(\"Root Mean Squared Error (RMSE):\", rmse)"
   ]
  },
  {
   "cell_type": "code",
   "execution_count": 25,
   "metadata": {},
   "outputs": [],
   "source": [
    "from sklearn.linear_model import LogisticRegression\n",
    "modelLogisticRegression = LogisticRegression()\n",
    "\n",
    "modelLogisticRegression.fit(X_train, y_train)\n",
    "y_pred = modelLogisticRegression.predict(X_test)"
   ]
  },
  {
   "cell_type": "code",
   "execution_count": 26,
   "metadata": {},
   "outputs": [
    {
     "name": "stdout",
     "output_type": "stream",
     "text": [
      "Mean Squared Error: 3.744959400374766\n"
     ]
    }
   ],
   "source": [
    "mseLogisticRegression = mean_squared_error(y_test, y_pred)\n",
    "print(\"Mean Squared Error:\", mseLogisticRegression)"
   ]
  },
  {
   "cell_type": "code",
   "execution_count": 2,
   "metadata": {},
   "outputs": [
    {
     "name": "stdout",
     "output_type": "stream",
     "text": [
      "Collecting auto-sklearn\n",
      "  Using cached auto-sklearn-0.15.0.tar.gz (6.5 MB)\n",
      "  Installing build dependencies: started\n",
      "  Installing build dependencies: finished with status 'done'\n",
      "  Getting requirements to build wheel: started\n",
      "  Getting requirements to build wheel: finished with status 'error'\n"
     ]
    },
    {
     "name": "stderr",
     "output_type": "stream",
     "text": [
      "WARNING: Ignoring invalid distribution -cikit-learn (d:\\wpsystem\\s-1-5-21-3269375078-2600015948-3888818519-1001\\appdata\\local\\packages\\pythonsoftwarefoundation.python.3.9_qbz5n2kfra8p0\\localcache\\local-packages\\python39\\site-packages)\n",
      "WARNING: Ignoring invalid distribution -cipy (d:\\wpsystem\\s-1-5-21-3269375078-2600015948-3888818519-1001\\appdata\\local\\packages\\pythonsoftwarefoundation.python.3.9_qbz5n2kfra8p0\\localcache\\local-packages\\python39\\site-packages)\n",
      "WARNING: Ignoring invalid distribution -umpy (d:\\wpsystem\\s-1-5-21-3269375078-2600015948-3888818519-1001\\appdata\\local\\packages\\pythonsoftwarefoundation.python.3.9_qbz5n2kfra8p0\\localcache\\local-packages\\python39\\site-packages)\n",
      "  error: subprocess-exited-with-error\n",
      "  \n",
      "  × Getting requirements to build wheel did not run successfully.\n",
      "  │ exit code: 1\n",
      "  ╰─> [17 lines of output]\n",
      "      Traceback (most recent call last):\n",
      "        File \"C:\\Users\\Admin\\AppData\\Local\\Packages\\PythonSoftwareFoundation.Python.3.9_qbz5n2kfra8p0\\LocalCache\\local-packages\\Python39\\site-packages\\pip\\_vendor\\pyproject_hooks\\_in_process\\_in_process.py\", line 353, in <module>\n",
      "          main()\n",
      "        File \"C:\\Users\\Admin\\AppData\\Local\\Packages\\PythonSoftwareFoundation.Python.3.9_qbz5n2kfra8p0\\LocalCache\\local-packages\\Python39\\site-packages\\pip\\_vendor\\pyproject_hooks\\_in_process\\_in_process.py\", line 335, in main\n",
      "          json_out['return_val'] = hook(**hook_input['kwargs'])\n",
      "        File \"C:\\Users\\Admin\\AppData\\Local\\Packages\\PythonSoftwareFoundation.Python.3.9_qbz5n2kfra8p0\\LocalCache\\local-packages\\Python39\\site-packages\\pip\\_vendor\\pyproject_hooks\\_in_process\\_in_process.py\", line 118, in get_requires_for_build_wheel\n",
      "          return hook(config_settings)\n",
      "        File \"C:\\Users\\Admin\\AppData\\Local\\Temp\\pip-build-env-02llsm6q\\overlay\\Lib\\site-packages\\setuptools\\build_meta.py\", line 325, in get_requires_for_build_wheel\n",
      "          return self._get_build_requires(config_settings, requirements=['wheel'])\n",
      "        File \"C:\\Users\\Admin\\AppData\\Local\\Temp\\pip-build-env-02llsm6q\\overlay\\Lib\\site-packages\\setuptools\\build_meta.py\", line 295, in _get_build_requires\n",
      "          self.run_setup()\n",
      "        File \"C:\\Users\\Admin\\AppData\\Local\\Temp\\pip-build-env-02llsm6q\\overlay\\Lib\\site-packages\\setuptools\\build_meta.py\", line 487, in run_setup\n",
      "          super().run_setup(setup_script=setup_script)\n",
      "        File \"C:\\Users\\Admin\\AppData\\Local\\Temp\\pip-build-env-02llsm6q\\overlay\\Lib\\site-packages\\setuptools\\build_meta.py\", line 311, in run_setup\n",
      "          exec(code, locals())\n",
      "        File \"<string>\", line 10, in <module>\n",
      "      ValueError: Detected unsupported operating system: win32. Please check the compability information of auto-sklearn: https://automl.github.io/auto-sklearn/master/installation.html#windows-osx-compatibility\n",
      "      [end of output]\n",
      "  \n",
      "  note: This error originates from a subprocess, and is likely not a problem with pip.\n",
      "error: subprocess-exited-with-error\n",
      "\n",
      "× Getting requirements to build wheel did not run successfully.\n",
      "│ exit code: 1\n",
      "╰─> See above for output.\n",
      "\n",
      "note: This error originates from a subprocess, and is likely not a problem with pip.\n"
     ]
    }
   ],
   "source": [
    "!pip install auto-sklearn"
   ]
  },
  {
   "cell_type": "code",
   "execution_count": 33,
   "metadata": {},
   "outputs": [
    {
     "name": "stderr",
     "output_type": "stream",
     "text": [
      "'apt-get' is not recognized as an internal or external command,\n",
      "operable program or batch file.\n"
     ]
    }
   ],
   "source": [
    "!pip install -U scikit-learn\n"
   ]
  },
  {
   "cell_type": "code",
   "execution_count": 1,
   "metadata": {},
   "outputs": [
    {
     "ename": "ModuleNotFoundError",
     "evalue": "No module named 'autosklearn'",
     "output_type": "error",
     "traceback": [
      "\u001b[1;31m---------------------------------------------------------------------------\u001b[0m",
      "\u001b[1;31mModuleNotFoundError\u001b[0m                       Traceback (most recent call last)",
      "Cell \u001b[1;32mIn[1], line 1\u001b[0m\n\u001b[1;32m----> 1\u001b[0m \u001b[38;5;28;01mimport\u001b[39;00m \u001b[38;5;21;01mautosklearn\u001b[39;00m\u001b[38;5;21;01m.\u001b[39;00m\u001b[38;5;21;01mclassification\u001b[39;00m\n",
      "\u001b[1;31mModuleNotFoundError\u001b[0m: No module named 'autosklearn'"
     ]
    }
   ],
   "source": [
    "import autosklearn.classification\n"
   ]
  }
 ],
 "metadata": {
  "kernelspec": {
   "display_name": "Python 3",
   "language": "python",
   "name": "python3"
  },
  "language_info": {
   "codemirror_mode": {
    "name": "ipython",
    "version": 3
   },
   "file_extension": ".py",
   "mimetype": "text/x-python",
   "name": "python",
   "nbconvert_exporter": "python",
   "pygments_lexer": "ipython3",
   "version": "3.9.13"
  }
 },
 "nbformat": 4,
 "nbformat_minor": 2
}
